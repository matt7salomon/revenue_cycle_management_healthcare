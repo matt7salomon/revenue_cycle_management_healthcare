{
 "cells": [
  {
   "cell_type": "markdown",
   "id": "introduction",
   "metadata": {},
   "source": [
    "# **Advanced Hospital CRM with Neo4j**\n",
    "\n",
    "This notebook demonstrates how to build an advanced Hospital Customer Relationship Management (CRM) system using Neo4j, a graph database optimized for managing complex relationships between data entities."
   ]
  },
  {
   "cell_type": "markdown",
   "id": "table-of-contents",
   "metadata": {},
   "source": [
    "## **Table of Contents**\n",
    "\n",
    "1. [Introduction](#Introduction)\n",
    "2. [Prerequisites](#Prerequisites)\n",
    "3. [Database Schema Design](#Database-Schema-Design)\n",
    "4. [Connecting to Neo4j](#Connecting-to-Neo4j)\n",
    "5. [Creating Nodes and Relationships](#Creating-Nodes-and-Relationships)\n",
    "6. [Populating the Database](#Populating-the-Database)\n",
    "7. [Advanced Queries](#Advanced-Queries)\n",
    "    - a. [Find all appointments for a patient](#a-Find-all-appointments-for-a-patient)\n",
    "    - b. [Find all patients scheduled with a specific doctor](#b-Find-all-patients-scheduled-with-a-specific-doctor)\n",
    "8. [Implementing Treatment and Medication Nodes](#Implementing-Treatment-and-Medication-Nodes)\n",
    "9. [Advanced Features](#Advanced-Features)\n",
    "    - a. [Appointment Reminders](#a-Appointment-Reminders)\n",
    "    - b. [Analyzing Doctor Workloads](#b-Analyzing-Doctor-Workloads)\n",
    "10. [Closing the Connection](#Closing-the-Connection)\n",
    "11. [Conclusion](#Conclusion)"
   ]
  },
  {
   "cell_type": "markdown",
   "id": "introduction-1",
   "metadata": {},
   "source": [
    "## **Introduction**\n",
    "\n",
    "The hospital CRM system will manage patients, doctors, appointments, treatments, and other related entities. Neo4j allows efficient modeling and querying of complex relationships such as:\n",
    "\n",
    "- **Patients** scheduled for **Appointments** with **Doctors**\n",
    "- **Doctors** specialized in certain **Departments**\n",
    "- **Patients** undergoing **Treatments** and prescribed **Medications**"
   ]
  },
  {
   "cell_type": "markdown",
   "id": "prerequisites",
   "metadata": {},
   "source": [
    "## **Prerequisites**\n",
    "\n",
    "- **Neo4j Database**: Ensure you have Neo4j installed and running.\n",
    "- **Python 3.x**: For scripting and interacting with the database.\n",
    "- **Neo4j Python Driver**: Install using `pip install neo4j`"
   ]
  },
  {
   "cell_type": "markdown",
   "id": "database-schema-design",
   "metadata": {},
   "source": [
    "## **Database Schema Design**\n",
    "\n",
    "### **Nodes**\n",
    "\n",
    "- **Patient**: Represents a patient.\n",
    "- **Doctor**: Represents a doctor.\n",
    "- **Appointment**: Represents an appointment.\n",
    "- **Department**: Represents a medical department.\n",
    "- **Treatment**: Represents a treatment plan.\n",
    "- **Medication**: Represents medication prescribed.\n",
    "\n",
    "### **Relationships**\n",
    "\n",
    "- `(Patient)-[:HAS_APPOINTMENT]->(Appointment)`\n",
    "- `(Appointment)-[:WITH_DOCTOR]->(Doctor)`\n",
    "- `(Doctor)-[:WORKS_IN]->(Department)`\n",
    "- `(Patient)-[:UNDERGOES]->(Treatment)`\n",
    "- `(Treatment)-[:INCLUDES_MEDICATION]->(Medication)`"
   ]
  },
  {
   "cell_type": "markdown",
   "id": "connecting-to-neo4j",
   "metadata": {},
   "source": [
    "## **Connecting to Neo4j**\n",
    "\n",
    "First, establish a connection to the Neo4j database."
   ]
  },
  {
   "cell_type": "code",
   "execution_count": 2,
   "id": "fe1fe271",
   "metadata": {},
   "outputs": [],
   "source": [
    "from dotenv import load_dotenv\n",
    "import os\n",
    "load_dotenv()\n",
    "Neo4j_pass = os.environ['NEO4J_PASS']"
   ]
  },
  {
   "cell_type": "code",
   "execution_count": 3,
   "id": "connecting-to-neo4j-code",
   "metadata": {},
   "outputs": [],
   "source": [
    "from neo4j import GraphDatabase\n",
    "\n",
    "# Replace with your Neo4j credentials\n",
    "uri = \"bolt://localhost:7687\"\n",
    "username = \"neo4j\"\n",
    "password = Neo4j_pass\n",
    "\n",
    "driver = GraphDatabase.driver(uri, auth=(username, password))"
   ]
  },
  {
   "cell_type": "markdown",
   "id": "creating-nodes-and-relationships",
   "metadata": {},
   "source": [
    "## **Creating Nodes and Relationships**\n",
    "\n",
    "Define functions to create nodes and relationships."
   ]
  },
  {
   "cell_type": "code",
   "execution_count": 4,
   "id": "creating-nodes-code",
   "metadata": {},
   "outputs": [],
   "source": [
    "def create_patient(tx, patient_id, name, age, contact):\n",
    "    tx.run(\n",
    "        \"\"\"\n",
    "        MERGE (p:Patient {patient_id: $patient_id})\n",
    "        SET p.name = $name, p.age = $age, p.contact = $contact\n",
    "        \"\"\",\n",
    "        patient_id=patient_id, name=name, age=age, contact=contact\n",
    "    )\n",
    "\n",
    "def create_doctor(tx, doctor_id, name, specialty):\n",
    "    tx.run(\n",
    "        \"\"\"\n",
    "        MERGE (d:Doctor {doctor_id: $doctor_id})\n",
    "        SET d.name = $name, d.specialty = $specialty\n",
    "        \"\"\",\n",
    "        doctor_id=doctor_id, name=name, specialty=specialty\n",
    "    )\n",
    "\n",
    "def create_appointment(tx, appointment_id, date, time):\n",
    "    tx.run(\n",
    "        \"\"\"\n",
    "        MERGE (a:Appointment {appointment_id: $appointment_id})\n",
    "        SET a.date = $date, a.time = $time\n",
    "        \"\"\",\n",
    "        appointment_id=appointment_id, date=date, time=time\n",
    "    )\n",
    "\n",
    "def link_patient_appointment(tx, patient_id, appointment_id):\n",
    "    tx.run(\n",
    "        \"\"\"\n",
    "        MATCH (p:Patient {patient_id: $patient_id}), (a:Appointment {appointment_id: $appointment_id})\n",
    "        MERGE (p)-[:HAS_APPOINTMENT]->(a)\n",
    "        \"\"\",\n",
    "        patient_id=patient_id, appointment_id=appointment_id\n",
    "    )\n",
    "\n",
    "def link_appointment_doctor(tx, appointment_id, doctor_id):\n",
    "    tx.run(\n",
    "        \"\"\"\n",
    "        MATCH (a:Appointment {appointment_id: $appointment_id}), (d:Doctor {doctor_id: $doctor_id})\n",
    "        MERGE (a)-[:WITH_DOCTOR]->(d)\n",
    "        \"\"\",\n",
    "        appointment_id=appointment_id, doctor_id=doctor_id\n",
    "    )"
   ]
  },
  {
   "cell_type": "markdown",
   "id": "populating-the-database",
   "metadata": {},
   "source": [
    "## **Populating the Database**\n",
    "\n",
    "Use the above functions to add data."
   ]
  },
  {
   "cell_type": "code",
   "execution_count": 5,
   "id": "populating-database-code",
   "metadata": {},
   "outputs": [
    {
     "name": "stderr",
     "output_type": "stream",
     "text": [
      "/var/folders/45/07b7h57d7d1gx4px8xjqcx640000gn/T/ipykernel_58705/97919563.py:3: DeprecationWarning: write_transaction has been renamed to execute_write\n",
      "  session.write_transaction(create_patient, \"P001\", \"Alice Smith\", 30, \"555-1234\")\n",
      "/var/folders/45/07b7h57d7d1gx4px8xjqcx640000gn/T/ipykernel_58705/97919563.py:4: DeprecationWarning: write_transaction has been renamed to execute_write\n",
      "  session.write_transaction(create_patient, \"P002\", \"Bob Johnson\", 45, \"555-5678\")\n",
      "/var/folders/45/07b7h57d7d1gx4px8xjqcx640000gn/T/ipykernel_58705/97919563.py:7: DeprecationWarning: write_transaction has been renamed to execute_write\n",
      "  session.write_transaction(create_doctor, \"D001\", \"Dr. Emily Brown\", \"Cardiology\")\n",
      "/var/folders/45/07b7h57d7d1gx4px8xjqcx640000gn/T/ipykernel_58705/97919563.py:8: DeprecationWarning: write_transaction has been renamed to execute_write\n",
      "  session.write_transaction(create_doctor, \"D002\", \"Dr. John Doe\", \"Neurology\")\n",
      "/var/folders/45/07b7h57d7d1gx4px8xjqcx640000gn/T/ipykernel_58705/97919563.py:11: DeprecationWarning: write_transaction has been renamed to execute_write\n",
      "  session.write_transaction(create_appointment, \"A001\", \"2023-10-15\", \"10:00\")\n",
      "/var/folders/45/07b7h57d7d1gx4px8xjqcx640000gn/T/ipykernel_58705/97919563.py:12: DeprecationWarning: write_transaction has been renamed to execute_write\n",
      "  session.write_transaction(create_appointment, \"A002\", \"2023-10-16\", \"14:00\")\n",
      "/var/folders/45/07b7h57d7d1gx4px8xjqcx640000gn/T/ipykernel_58705/97919563.py:15: DeprecationWarning: write_transaction has been renamed to execute_write\n",
      "  session.write_transaction(link_patient_appointment, \"P001\", \"A001\")\n",
      "/var/folders/45/07b7h57d7d1gx4px8xjqcx640000gn/T/ipykernel_58705/97919563.py:16: DeprecationWarning: write_transaction has been renamed to execute_write\n",
      "  session.write_transaction(link_patient_appointment, \"P002\", \"A002\")\n",
      "/var/folders/45/07b7h57d7d1gx4px8xjqcx640000gn/T/ipykernel_58705/97919563.py:19: DeprecationWarning: write_transaction has been renamed to execute_write\n",
      "  session.write_transaction(link_appointment_doctor, \"A001\", \"D001\")\n",
      "/var/folders/45/07b7h57d7d1gx4px8xjqcx640000gn/T/ipykernel_58705/97919563.py:20: DeprecationWarning: write_transaction has been renamed to execute_write\n",
      "  session.write_transaction(link_appointment_doctor, \"A002\", \"D002\")\n"
     ]
    }
   ],
   "source": [
    "with driver.session() as session:\n",
    "    # Create Patients\n",
    "    session.write_transaction(create_patient, \"P001\", \"Alice Smith\", 30, \"555-1234\")\n",
    "    session.write_transaction(create_patient, \"P002\", \"Bob Johnson\", 45, \"555-5678\")\n",
    "    \n",
    "    # Create Doctors\n",
    "    session.write_transaction(create_doctor, \"D001\", \"Dr. Emily Brown\", \"Cardiology\")\n",
    "    session.write_transaction(create_doctor, \"D002\", \"Dr. John Doe\", \"Neurology\")\n",
    "    \n",
    "    # Create Appointments\n",
    "    session.write_transaction(create_appointment, \"A001\", \"2023-10-15\", \"10:00\")\n",
    "    session.write_transaction(create_appointment, \"A002\", \"2023-10-16\", \"14:00\")\n",
    "    \n",
    "    # Link Patients to Appointments\n",
    "    session.write_transaction(link_patient_appointment, \"P001\", \"A001\")\n",
    "    session.write_transaction(link_patient_appointment, \"P002\", \"A002\")\n",
    "    \n",
    "    # Link Appointments to Doctors\n",
    "    session.write_transaction(link_appointment_doctor, \"A001\", \"D001\")\n",
    "    session.write_transaction(link_appointment_doctor, \"A002\", \"D002\")"
   ]
  },
  {
   "cell_type": "markdown",
   "id": "advanced-queries",
   "metadata": {},
   "source": [
    "## **Advanced Queries**"
   ]
  },
  {
   "cell_type": "markdown",
   "id": "a-find-all-appointments-for-a-patient",
   "metadata": {},
   "source": [
    "### **a. Find all appointments for a patient**"
   ]
  },
  {
   "cell_type": "code",
   "execution_count": 6,
   "id": "find-appointments-code",
   "metadata": {},
   "outputs": [
    {
     "name": "stdout",
     "output_type": "stream",
     "text": [
      "{'appointment_id': 'A001', 'date': '2023-10-15', 'time': '10:00', 'doctor': 'Dr. Emily Brown'}\n"
     ]
    },
    {
     "name": "stderr",
     "output_type": "stream",
     "text": [
      "/var/folders/45/07b7h57d7d1gx4px8xjqcx640000gn/T/ipykernel_58705/285344441.py:12: DeprecationWarning: read_transaction has been renamed to execute_read\n",
      "  appointments = session.read_transaction(get_patient_appointments, \"P001\")\n"
     ]
    }
   ],
   "source": [
    "def get_patient_appointments(tx, patient_id):\n",
    "    result = tx.run(\n",
    "        \"\"\"\n",
    "        MATCH (p:Patient {patient_id: $patient_id})-[:HAS_APPOINTMENT]->(a)-[:WITH_DOCTOR]->(d)\n",
    "        RETURN a.appointment_id AS appointment_id, a.date AS date, a.time AS time, d.name AS doctor\n",
    "        \"\"\",\n",
    "        patient_id=patient_id\n",
    "    )\n",
    "    return result.data()\n",
    "\n",
    "with driver.session() as session:\n",
    "    appointments = session.read_transaction(get_patient_appointments, \"P001\")\n",
    "    for record in appointments:\n",
    "        print(record)"
   ]
  },
  {
   "cell_type": "markdown",
   "id": "appointments-output",
   "metadata": {},
   "source": [
    "**Output:**\n",
    "\n",
    "```\n",
    "{'appointment_id': 'A001', 'date': '2023-10-15', 'time': '10:00', 'doctor': 'Dr. Emily Brown'}\n",
    "```"
   ]
  },
  {
   "cell_type": "markdown",
   "id": "b-find-all-patients-scheduled-with-a-specific-doctor",
   "metadata": {},
   "source": [
    "### **b. Find all patients scheduled with a specific doctor**"
   ]
  },
  {
   "cell_type": "code",
   "execution_count": 7,
   "id": "find-patients-code",
   "metadata": {},
   "outputs": [
    {
     "name": "stdout",
     "output_type": "stream",
     "text": [
      "{'patient_id': 'P001', 'name': 'Alice Smith'}\n"
     ]
    },
    {
     "name": "stderr",
     "output_type": "stream",
     "text": [
      "/var/folders/45/07b7h57d7d1gx4px8xjqcx640000gn/T/ipykernel_58705/163540448.py:12: DeprecationWarning: read_transaction has been renamed to execute_read\n",
      "  patients = session.read_transaction(get_doctor_patients, \"D001\")\n"
     ]
    }
   ],
   "source": [
    "def get_doctor_patients(tx, doctor_id):\n",
    "    result = tx.run(\n",
    "        \"\"\"\n",
    "        MATCH (d:Doctor {doctor_id: $doctor_id})<-[:WITH_DOCTOR]-(a)<-[:HAS_APPOINTMENT]-(p)\n",
    "        RETURN p.patient_id AS patient_id, p.name AS name\n",
    "        \"\"\",\n",
    "        doctor_id=doctor_id\n",
    "    )\n",
    "    return result.data()\n",
    "\n",
    "with driver.session() as session:\n",
    "    patients = session.read_transaction(get_doctor_patients, \"D001\")\n",
    "    for record in patients:\n",
    "        print(record)"
   ]
  },
  {
   "cell_type": "markdown",
   "id": "patients-output",
   "metadata": {},
   "source": [
    "**Output:**\n",
    "\n",
    "```\n",
    "{'patient_id': 'P001', 'name': 'Alice Smith'}\n",
    "```"
   ]
  },
  {
   "cell_type": "markdown",
   "id": "implementing-treatment-and-medication-nodes",
   "metadata": {},
   "source": [
    "## **Implementing Treatment and Medication Nodes**"
   ]
  },
  {
   "cell_type": "code",
   "execution_count": 8,
   "id": "treatment-medication-code",
   "metadata": {},
   "outputs": [],
   "source": [
    "def create_treatment(tx, treatment_id, description):\n",
    "    tx.run(\n",
    "        \"\"\"\n",
    "        MERGE (t:Treatment {treatment_id: $treatment_id})\n",
    "        SET t.description = $description\n",
    "        \"\"\",\n",
    "        treatment_id=treatment_id, description=description\n",
    "    )\n",
    "\n",
    "def create_medication(tx, medication_id, name, dosage):\n",
    "    tx.run(\n",
    "        \"\"\"\n",
    "        MERGE (m:Medication {medication_id: $medication_id})\n",
    "        SET m.name = $name, m.dosage = $dosage\n",
    "        \"\"\",\n",
    "        medication_id=medication_id, name=name, dosage=dosage\n",
    "    )\n",
    "\n",
    "def link_treatment_medication(tx, treatment_id, medication_id):\n",
    "    tx.run(\n",
    "        \"\"\"\n",
    "        MATCH (t:Treatment {treatment_id: $treatment_id}), (m:Medication {medication_id: $medication_id})\n",
    "        MERGE (t)-[:INCLUDES_MEDICATION]->(m)\n",
    "        \"\"\",\n",
    "        treatment_id=treatment_id, medication_id=medication_id\n",
    "    )\n",
    "\n",
    "def link_patient_treatment(tx, patient_id, treatment_id):\n",
    "    tx.run(\n",
    "        \"\"\"\n",
    "        MATCH (p:Patient {patient_id: $patient_id}), (t:Treatment {treatment_id: $treatment_id})\n",
    "        MERGE (p)-[:UNDERGOES]->(t)\n",
    "        \"\"\",\n",
    "        patient_id=patient_id, treatment_id=treatment_id\n",
    "    )"
   ]
  },
  {
   "cell_type": "markdown",
   "id": "populate-treatment-and-medication-data",
   "metadata": {},
   "source": [
    "**Populate Treatment and Medication Data:**"
   ]
  },
  {
   "cell_type": "code",
   "execution_count": 9,
   "id": "populate-treatment-code",
   "metadata": {},
   "outputs": [
    {
     "name": "stderr",
     "output_type": "stream",
     "text": [
      "/var/folders/45/07b7h57d7d1gx4px8xjqcx640000gn/T/ipykernel_58705/999400858.py:3: DeprecationWarning: write_transaction has been renamed to execute_write\n",
      "  session.write_transaction(create_treatment, \"T001\", \"Heart Disease Treatment\")\n",
      "/var/folders/45/07b7h57d7d1gx4px8xjqcx640000gn/T/ipykernel_58705/999400858.py:6: DeprecationWarning: write_transaction has been renamed to execute_write\n",
      "  session.write_transaction(create_medication, \"M001\", \"Aspirin\", \"100mg daily\")\n",
      "/var/folders/45/07b7h57d7d1gx4px8xjqcx640000gn/T/ipykernel_58705/999400858.py:7: DeprecationWarning: write_transaction has been renamed to execute_write\n",
      "  session.write_transaction(create_medication, \"M002\", \"Beta Blockers\", \"50mg daily\")\n",
      "/var/folders/45/07b7h57d7d1gx4px8xjqcx640000gn/T/ipykernel_58705/999400858.py:10: DeprecationWarning: write_transaction has been renamed to execute_write\n",
      "  session.write_transaction(link_treatment_medication, \"T001\", \"M001\")\n",
      "/var/folders/45/07b7h57d7d1gx4px8xjqcx640000gn/T/ipykernel_58705/999400858.py:11: DeprecationWarning: write_transaction has been renamed to execute_write\n",
      "  session.write_transaction(link_treatment_medication, \"T001\", \"M002\")\n",
      "/var/folders/45/07b7h57d7d1gx4px8xjqcx640000gn/T/ipykernel_58705/999400858.py:14: DeprecationWarning: write_transaction has been renamed to execute_write\n",
      "  session.write_transaction(link_patient_treatment, \"P001\", \"T001\")\n"
     ]
    }
   ],
   "source": [
    "with driver.session() as session:\n",
    "    # Create Treatments\n",
    "    session.write_transaction(create_treatment, \"T001\", \"Heart Disease Treatment\")\n",
    "    \n",
    "    # Create Medications\n",
    "    session.write_transaction(create_medication, \"M001\", \"Aspirin\", \"100mg daily\")\n",
    "    session.write_transaction(create_medication, \"M002\", \"Beta Blockers\", \"50mg daily\")\n",
    "    \n",
    "    # Link Treatments to Medications\n",
    "    session.write_transaction(link_treatment_medication, \"T001\", \"M001\")\n",
    "    session.write_transaction(link_treatment_medication, \"T001\", \"M002\")\n",
    "    \n",
    "    # Link Patients to Treatments\n",
    "    session.write_transaction(link_patient_treatment, \"P001\", \"T001\")"
   ]
  },
  {
   "cell_type": "markdown",
   "id": "advanced-features",
   "metadata": {},
   "source": [
    "## **Advanced Features**"
   ]
  },
  {
   "cell_type": "markdown",
   "id": "a-appointment-reminders",
   "metadata": {},
   "source": [
    "### **a. Appointment Reminders**\n",
    "\n",
    "Add properties to appointments for reminders."
   ]
  },
  {
   "cell_type": "code",
   "execution_count": 10,
   "id": "appointment-reminders-code",
   "metadata": {},
   "outputs": [
    {
     "name": "stderr",
     "output_type": "stream",
     "text": [
      "/var/folders/45/07b7h57d7d1gx4px8xjqcx640000gn/T/ipykernel_58705/650670045.py:11: DeprecationWarning: write_transaction has been renamed to execute_write\n",
      "  session.write_transaction(set_appointment_reminder, \"A001\", False)\n"
     ]
    }
   ],
   "source": [
    "def set_appointment_reminder(tx, appointment_id, reminder_sent):\n",
    "    tx.run(\n",
    "        \"\"\"\n",
    "        MATCH (a:Appointment {appointment_id: $appointment_id})\n",
    "        SET a.reminder_sent = $reminder_sent\n",
    "        \"\"\",\n",
    "        appointment_id=appointment_id, reminder_sent=reminder_sent\n",
    "    )\n",
    "\n",
    "with driver.session() as session:\n",
    "    session.write_transaction(set_appointment_reminder, \"A001\", False)"
   ]
  },
  {
   "cell_type": "markdown",
   "id": "b-analyzing-doctor-workloads",
   "metadata": {},
   "source": [
    "### **b. Analyzing Doctor Workloads**"
   ]
  },
  {
   "cell_type": "code",
   "execution_count": 11,
   "id": "doctor-workloads-code",
   "metadata": {},
   "outputs": [
    {
     "name": "stdout",
     "output_type": "stream",
     "text": [
      "{'doctor': 'Dr. Emily Brown', 'appointments': 1}\n",
      "{'doctor': 'Dr. John Doe', 'appointments': 1}\n"
     ]
    },
    {
     "name": "stderr",
     "output_type": "stream",
     "text": [
      "/var/folders/45/07b7h57d7d1gx4px8xjqcx640000gn/T/ipykernel_58705/3288463594.py:12: DeprecationWarning: read_transaction has been renamed to execute_read\n",
      "  workloads = session.read_transaction(get_doctor_workload)\n"
     ]
    }
   ],
   "source": [
    "def get_doctor_workload(tx):\n",
    "    result = tx.run(\n",
    "        \"\"\"\n",
    "        MATCH (d:Doctor)<-[:WITH_DOCTOR]-(a)\n",
    "        RETURN d.name AS doctor, COUNT(a) AS appointments\n",
    "        ORDER BY appointments DESC\n",
    "        \"\"\"\n",
    "    )\n",
    "    return result.data()\n",
    "\n",
    "with driver.session() as session:\n",
    "    workloads = session.read_transaction(get_doctor_workload)\n",
    "    for record in workloads:\n",
    "        print(record)"
   ]
  },
  {
   "cell_type": "markdown",
   "id": "doctor-workloads-output",
   "metadata": {},
   "source": [
    "**Output:**\n",
    "\n",
    "```\n",
    "{'doctor': 'Dr. Emily Brown', 'appointments': 1}\n",
    "{'doctor': 'Dr. John Doe', 'appointments': 1}\n",
    "```"
   ]
  },
  {
   "cell_type": "markdown",
   "id": "closing-the-connection",
   "metadata": {},
   "source": [
    "## **Closing the Connection**\n",
    "\n",
    "Always close the driver connection when done."
   ]
  },
  {
   "cell_type": "code",
   "execution_count": 12,
   "id": "closing-connection-code",
   "metadata": {},
   "outputs": [],
   "source": [
    "driver.close()"
   ]
  },
  {
   "cell_type": "markdown",
   "id": "conclusion",
   "metadata": {},
   "source": [
    "## **Conclusion**\n",
    "\n",
    "This notebook provides a foundation for an advanced hospital CRM system using Neo4j. It demonstrates how to model complex relationships inherent in hospital data and how to interact with the database using Python. You can extend this system by adding more features, optimizing queries, and integrating with other services.\n",
    "\n",
    "**Enhancements to Consider:**\n",
    "\n",
    "- **User Authentication and Authorization**: Implement role-based access control.\n",
    "- **API Layer**: Use a web framework like Flask or Django to create RESTful APIs.\n",
    "- **Scheduling Algorithms**: Optimize appointment scheduling based on doctor availability.\n",
    "- **Data Analysis**: Use Neo4j's graph algorithms library for advanced analytics.\n",
    "- **Notification System**: Integrate with email/SMS services for reminders and notifications.\n",
    "- **Front-end Interface**: Build an interactive UI using frameworks like React or Angular.\n",
    "\n",
    "---\n",
    "\n",
    "**Note**: Ensure that you handle sensitive data securely, complying with regulations like HIPAA if this system is used in a real-world healthcare setting."
   ]
  },
  {
   "cell_type": "code",
   "execution_count": null,
   "id": "67c4c072",
   "metadata": {},
   "outputs": [],
   "source": []
  },
  {
   "cell_type": "code",
   "execution_count": null,
   "id": "36a17284",
   "metadata": {},
   "outputs": [],
   "source": []
  }
 ],
 "metadata": {
  "kernelspec": {
   "display_name": "Python 3.10 (tensorflow)",
   "language": "python",
   "name": "tensorflow"
  },
  "language_info": {
   "codemirror_mode": {
    "name": "ipython",
    "version": 3
   },
   "file_extension": ".py",
   "mimetype": "text/x-python",
   "name": "python",
   "nbconvert_exporter": "python",
   "pygments_lexer": "ipython3",
   "version": "3.10.9"
  }
 },
 "nbformat": 4,
 "nbformat_minor": 5
}
